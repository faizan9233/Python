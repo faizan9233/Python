{
 "cells": [
  {
   "cell_type": "code",
   "execution_count": 48,
   "id": "454f487d",
   "metadata": {},
   "outputs": [
    {
     "name": "stdout",
     "output_type": "stream",
     "text": [
      "Python version\n",
      "3.11.4 | packaged by Anaconda, Inc. | (main, Jul  5 2023, 13:38:37) [MSC v.1916 64 bit (AMD64)]\n",
      "Version info.\n",
      "sys.version_info(major=3, minor=11, micro=4, releaselevel='final', serial=0)\n"
     ]
    }
   ],
   "source": [
    "import sys\n",
    "print(\"Python version\")\n",
    "print (sys.version)\n",
    "print(\"Version info.\")\n",
    "print (sys.version_info)"
   ]
  },
  {
   "cell_type": "code",
   "execution_count": 61,
   "id": "8d022a45",
   "metadata": {},
   "outputs": [
    {
     "name": "stdout",
     "output_type": "stream",
     "text": [
      "15\n",
      "FaizanShakeel\n",
      "This is multi line\n",
      "comment\n",
      "<class 'int'>\n",
      "<class 'str'>\n",
      "<class 'float'>\n",
      "Mango Banana Apple\n",
      "Apple Apple Apple\n"
     ]
    }
   ],
   "source": [
    "a=10\n",
    "print(a+5)\n",
    "print(\"FaizanShakeel\")\n",
    "#Comment\n",
    "b = '''This is multi line\n",
    "comment'''\n",
    "print(b)\n",
    "\n",
    "x=4\n",
    "y=\"Hello\"\n",
    "z=4.4\n",
    "print(type(x))\n",
    "print(type(y))\n",
    "print(type(z))\n",
    "\n",
    "myVariable=4    #CamelCase\n",
    "MyVariable=4    #PascalCase\n",
    "my_variable=4   #SnakeCase\n",
    "\n",
    "#Assign Many Values to multiple variables\n",
    "x,y,z = \"Mango\",\"Banana\",\"Apple\"\n",
    "print(x,y,z)\n",
    "\n",
    "#assign one value to multiple variables \n",
    "x=y=z=\"Apple\"\n",
    "print(x,y,z)\n",
    "\n"
   ]
  },
  {
   "cell_type": "code",
   "execution_count": 63,
   "id": "dbf98968",
   "metadata": {},
   "outputs": [
    {
     "name": "stdout",
     "output_type": "stream",
     "text": [
      "Enter your name:Faizan\n",
      "Hello, Faizan\n"
     ]
    }
   ],
   "source": [
    "#Input\n",
    "x = input('Enter your name:')\n",
    "print('Hello, ' + x)\n",
    "\n"
   ]
  },
  {
   "cell_type": "code",
   "execution_count": 66,
   "id": "8b466231",
   "metadata": {},
   "outputs": [
    {
     "name": "stdout",
     "output_type": "stream",
     "text": [
      "b is greater than a\n",
      "a and b are equal\n",
      "a is greater than b\n"
     ]
    }
   ],
   "source": [
    "#ConditionalStatement\n",
    "a = 33\n",
    "b = 200\n",
    "if b > a:\n",
    "  print(\"b is greater than a\")\n",
    "\n",
    "#elif\n",
    "a = 33\n",
    "b = 33\n",
    "if b > a:\n",
    "  print(\"b is greater than a\")\n",
    "elif a == b:\n",
    "  print(\"a and b are equal\")\n",
    "\n",
    "a = 200\n",
    "b = 33\n",
    "if b > a:\n",
    "  print(\"b is greater than a\")\n",
    "elif a == b:\n",
    "  print(\"a and b are equal\")\n",
    "else:\n",
    "  print(\"a is greater than b\")\n"
   ]
  },
  {
   "cell_type": "code",
   "execution_count": 74,
   "id": "9ff9644c",
   "metadata": {},
   "outputs": [
    {
     "name": "stdout",
     "output_type": "stream",
     "text": [
      "Hello from a function\n",
      "Ali Akbar\n",
      "Umar Akbar\n",
      "Ahmad Akbar\n",
      "I am from Sweden\n",
      "I am from India\n",
      "I am from Norway\n",
      "I am from Brazil\n",
      "15\n",
      "25\n",
      "45\n"
     ]
    }
   ],
   "source": [
    "#Functions\n",
    "def myfunction():\n",
    "  print(\"Hello from a function\")\n",
    "\n",
    "myfunction()\n",
    "\n",
    "def Fun(name):\n",
    "  print(name + \" Akbar\")\n",
    "\n",
    "Fun(\"Ali\")\n",
    "Fun(\"Umar\")\n",
    "Fun(\"Ahmad\")\n",
    "\n",
    "#Default Parameter\n",
    "def function(country = \"Norway\"):\n",
    "  print(\"I am from \" + country)\n",
    "\n",
    "function(\"Sweden\")\n",
    "function(\"India\")\n",
    "function()\n",
    "function(\"Brazil\")\n",
    "\n",
    "#Return Functions\n",
    "def my_function(x):\n",
    "  return 5 * x\n",
    "\n",
    "print(my_function(3))\n",
    "print(my_function(5))\n",
    "print(my_function(9))\n"
   ]
  },
  {
   "cell_type": "code",
   "execution_count": 81,
   "id": "19b7173d",
   "metadata": {},
   "outputs": [
    {
     "name": "stdout",
     "output_type": "stream",
     "text": [
      "1\n",
      "2\n",
      "3\n",
      "4\n",
      "5\n",
      "apple\n",
      "banana\n",
      "cherry\n",
      "b\n",
      "a\n",
      "n\n",
      "a\n",
      "n\n",
      "a\n",
      "2\n",
      "5\n",
      "8\n",
      "11\n",
      "14\n",
      "17\n",
      "20\n",
      "23\n",
      "26\n",
      "29\n",
      "red apple\n",
      "red banana\n",
      "red cherry\n",
      "big apple\n",
      "big banana\n",
      "big cherry\n",
      "tasty apple\n",
      "tasty banana\n",
      "tasty cherry\n"
     ]
    }
   ],
   "source": [
    "#Loops\n",
    "i = 1\n",
    "while i < 6:   #WhileLoop\n",
    "  print(i)\n",
    "  i += 1\n",
    "\n",
    "a = [\"apple\", \"banana\", \"cherry\"]  #ForLoop\n",
    "for x in a:\n",
    "  print(x)\n",
    "\n",
    "for x in \"banana\":  #LoopThroughString\n",
    "  print(x)\n",
    "    \n",
    "for x in range(2, 30, 3):\n",
    "  print(x)\n",
    "\n",
    "adj = [\"red\", \"big\", \"tasty\"]\n",
    "fruits = [\"apple\", \"banana\", \"cherry\"]\n",
    "\n",
    "for x in adj:               #Nested Loop\n",
    "  for y in fruits:\n",
    "    print(x, y)"
   ]
  },
  {
   "cell_type": "code",
   "execution_count": 88,
   "id": "306bffb3",
   "metadata": {},
   "outputs": [
    {
     "name": "stdout",
     "output_type": "stream",
     "text": [
      "e\n",
      "True\n",
      "llo\n",
      "HELLO, WORLD!\n",
      "Hello World\n",
      "We are the so-called \"Vikings\" from the north.\n"
     ]
    }
   ],
   "source": [
    "#Strings\n",
    "a = \"Hello, World!\"\n",
    "print(a[1])\n",
    "\n",
    "txt = \"The best things in life are free!\"\n",
    "print(\"free\" in txt)\n",
    "\n",
    "b = \"Hello, World!\"  #Slicing String\n",
    "print(b[2:5])\n",
    "\n",
    "a = \"Hello, World!\"\n",
    "print(a.upper())\n",
    "\n",
    "a = \"Hello\"\n",
    "b = \"World\"\n",
    "c = a + \" \" + b\n",
    "print(c)\n",
    "\n",
    "txt = \"We are the so-called \\\"Vikings\\\" from the north.\"\n",
    "print(txt)"
   ]
  },
  {
   "cell_type": "code",
   "execution_count": null,
   "id": "10ed0ea4",
   "metadata": {},
   "outputs": [],
   "source": []
  },
  {
   "cell_type": "code",
   "execution_count": null,
   "id": "bbcebe43",
   "metadata": {},
   "outputs": [],
   "source": []
  }
 ],
 "metadata": {
  "kernelspec": {
   "display_name": "Python 3 (ipykernel)",
   "language": "python",
   "name": "python3"
  },
  "language_info": {
   "codemirror_mode": {
    "name": "ipython",
    "version": 3
   },
   "file_extension": ".py",
   "mimetype": "text/x-python",
   "name": "python",
   "nbconvert_exporter": "python",
   "pygments_lexer": "ipython3",
   "version": "3.11.4"
  }
 },
 "nbformat": 4,
 "nbformat_minor": 5
}
